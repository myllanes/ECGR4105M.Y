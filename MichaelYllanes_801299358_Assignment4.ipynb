{
  "nbformat": 4,
  "nbformat_minor": 0,
  "metadata": {
    "colab": {
      "provenance": [],
      "authorship_tag": "ABX9TyNGwuZYLm35zaz2YIJLvTrM",
      "include_colab_link": true
    },
    "kernelspec": {
      "name": "python3",
      "display_name": "Python 3"
    },
    "language_info": {
      "name": "python"
    }
  },
  "cells": [
    {
      "cell_type": "markdown",
      "metadata": {
        "id": "view-in-github",
        "colab_type": "text"
      },
      "source": [
        "<a href=\"https://colab.research.google.com/github/myllanes/ECGR4105M.Y/blob/main/MichaelYllanes_801299358_Assignment4.ipynb\" target=\"_parent\"><img src=\"https://colab.research.google.com/assets/colab-badge.svg\" alt=\"Open In Colab\"/></a>"
      ]
    },
    {
      "cell_type": "markdown",
      "source": [
        "Michael Yllanes"
      ],
      "metadata": {
        "id": "--JvCEXeOlEb"
      }
    },
    {
      "cell_type": "code",
      "execution_count": 884,
      "metadata": {
        "id": "RyXowPz1S4lO"
      },
      "outputs": [],
      "source": [
        "%matplotlib inline\n",
        "import numpy as np\n",
        "import torch\n",
        "import torch.optim as optim\n",
        "import time\n",
        "from sklearn import metrics"
      ]
    },
    {
      "cell_type": "markdown",
      "source": [
        "# Problem 1a"
      ],
      "metadata": {
        "id": "4Npl0RQ1BVNr"
      }
    },
    {
      "cell_type": "code",
      "source": [
        "# My Data\n",
        "t_c = [1.0,  15.0, 13.0, 31.0, 17.0,-15.0,-10.0, -1.0,  -0.3, 7.0]\n",
        "t_u = [45.8, 69.0, 11.4, 70.8, 65.6, 15.0, 12.0, 25.2, 25.5, 39.6]\n",
        "t_c = torch.tensor(t_c).unsqueeze(1)\n",
        "t_u = torch.tensor(t_u).unsqueeze(1)\n",
        "\n",
        "t_u.shape"
      ],
      "metadata": {
        "id": "s39X5jBb610z",
        "colab": {
          "base_uri": "https://localhost:8080/",
          "height": 0
        },
        "outputId": "ba1f2299-a57f-4836-ae96-e005dd9056ea"
      },
      "execution_count": 885,
      "outputs": [
        {
          "output_type": "execute_result",
          "data": {
            "text/plain": [
              "torch.Size([10, 1])"
            ]
          },
          "metadata": {},
          "execution_count": 885
        }
      ]
    },
    {
      "cell_type": "code",
      "source": [
        "n_samples = t_u.shape[0]\n",
        "n_val = int(0.2 * n_samples)\n",
        "\n",
        "shuffled_indices = torch.randperm(n_samples)\n",
        "\n",
        "train_indices = shuffled_indices[:-n_val]\n",
        "val_indices = shuffled_indices[-n_val:]\n",
        "\n",
        "train_indices, val_indices\n",
        "\n"
      ],
      "metadata": {
        "id": "mYDoo8Zc63XX",
        "colab": {
          "base_uri": "https://localhost:8080/",
          "height": 0
        },
        "outputId": "1e6efa96-2c6e-4ea6-9547-82a62235aca9"
      },
      "execution_count": 886,
      "outputs": [
        {
          "output_type": "execute_result",
          "data": {
            "text/plain": [
              "(tensor([9, 5, 4, 3, 6, 2, 1, 0]), tensor([7, 8]))"
            ]
          },
          "metadata": {},
          "execution_count": 886
        }
      ]
    },
    {
      "cell_type": "code",
      "source": [
        "t_u_train = t_u[train_indices]\n",
        "t_c_train = t_c[train_indices]\n",
        "\n",
        "t_u_val = t_u[val_indices]\n",
        "t_c_val = t_c[val_indices]\n",
        "\n",
        "t_un_train = 0.1 * t_u_train\n",
        "t_un_val = 0.1 * t_u_val\n",
        "\n"
      ],
      "metadata": {
        "id": "fFFXGcYf66ib"
      },
      "execution_count": 887,
      "outputs": []
    },
    {
      "cell_type": "code",
      "source": [
        "import torch.nn as nn\n",
        "linear_model = nn.Linear(1, 1)\n",
        "linear_model(t_un_val)"
      ],
      "metadata": {
        "id": "QQK1Up_o68nd",
        "colab": {
          "base_uri": "https://localhost:8080/",
          "height": 0
        },
        "outputId": "f8a0662d-3c42-4920-d0a9-b9e32614703c"
      },
      "execution_count": 888,
      "outputs": [
        {
          "output_type": "execute_result",
          "data": {
            "text/plain": [
              "tensor([[0.5246],\n",
              "        [0.5304]], grad_fn=<AddmmBackward0>)"
            ]
          },
          "metadata": {},
          "execution_count": 888
        }
      ]
    },
    {
      "cell_type": "code",
      "source": [
        "linear_model.weight"
      ],
      "metadata": {
        "id": "LvQUv0yL6-J4",
        "colab": {
          "base_uri": "https://localhost:8080/",
          "height": 0
        },
        "outputId": "6e7a37d2-a1ef-48b1-ab79-4974e6b835c5"
      },
      "execution_count": 889,
      "outputs": [
        {
          "output_type": "execute_result",
          "data": {
            "text/plain": [
              "Parameter containing:\n",
              "tensor([[0.1930]], requires_grad=True)"
            ]
          },
          "metadata": {},
          "execution_count": 889
        }
      ]
    },
    {
      "cell_type": "code",
      "source": [
        "linear_model.bias"
      ],
      "metadata": {
        "colab": {
          "base_uri": "https://localhost:8080/",
          "height": 0
        },
        "id": "A6-_Mu_z-5Ke",
        "outputId": "2559bb68-255a-4d1d-8a96-3c8b68e24724"
      },
      "execution_count": 890,
      "outputs": [
        {
          "output_type": "execute_result",
          "data": {
            "text/plain": [
              "Parameter containing:\n",
              "tensor([0.0382], requires_grad=True)"
            ]
          },
          "metadata": {},
          "execution_count": 890
        }
      ]
    },
    {
      "cell_type": "code",
      "source": [
        "x = torch.ones(1)\n",
        "linear_model(x)"
      ],
      "metadata": {
        "colab": {
          "base_uri": "https://localhost:8080/",
          "height": 0
        },
        "id": "FmYFBQU2-51z",
        "outputId": "06825c56-040e-42d5-e178-8bfbbca6f09a"
      },
      "execution_count": 891,
      "outputs": [
        {
          "output_type": "execute_result",
          "data": {
            "text/plain": [
              "tensor([0.2312], grad_fn=<ViewBackward0>)"
            ]
          },
          "metadata": {},
          "execution_count": 891
        }
      ]
    },
    {
      "cell_type": "code",
      "source": [
        "x = torch.ones(10, 1)\n",
        "linear_model(x)"
      ],
      "metadata": {
        "colab": {
          "base_uri": "https://localhost:8080/",
          "height": 0
        },
        "id": "NxhIP50b_Nhc",
        "outputId": "630d40b4-c727-485f-db4c-8d8737072bd0"
      },
      "execution_count": 892,
      "outputs": [
        {
          "output_type": "execute_result",
          "data": {
            "text/plain": [
              "tensor([[0.2312],\n",
              "        [0.2312],\n",
              "        [0.2312],\n",
              "        [0.2312],\n",
              "        [0.2312],\n",
              "        [0.2312],\n",
              "        [0.2312],\n",
              "        [0.2312],\n",
              "        [0.2312],\n",
              "        [0.2312]], grad_fn=<AddmmBackward0>)"
            ]
          },
          "metadata": {},
          "execution_count": 892
        }
      ]
    },
    {
      "cell_type": "code",
      "source": [
        "linear_model = nn.Linear(1, 1)\n",
        "optimizer = optim.SGD(\n",
        "    linear_model.parameters(),\n",
        "    lr=1e-2)"
      ],
      "metadata": {
        "id": "7jjUG2K5_QlA"
      },
      "execution_count": 893,
      "outputs": []
    },
    {
      "cell_type": "code",
      "source": [
        "linear_model.parameters()"
      ],
      "metadata": {
        "colab": {
          "base_uri": "https://localhost:8080/",
          "height": 0
        },
        "id": "KY5Ct__r_SLZ",
        "outputId": "c81c0066-c28a-48c3-8cfb-8344a3156927"
      },
      "execution_count": 894,
      "outputs": [
        {
          "output_type": "execute_result",
          "data": {
            "text/plain": [
              "<generator object Module.parameters at 0x7c714fcd2f80>"
            ]
          },
          "metadata": {},
          "execution_count": 894
        }
      ]
    },
    {
      "cell_type": "code",
      "source": [
        "list(linear_model.parameters())"
      ],
      "metadata": {
        "colab": {
          "base_uri": "https://localhost:8080/",
          "height": 0
        },
        "id": "9yzYxLmo_Tzy",
        "outputId": "51f8c387-8b17-4c8e-a000-ce6f1a06331b"
      },
      "execution_count": 895,
      "outputs": [
        {
          "output_type": "execute_result",
          "data": {
            "text/plain": [
              "[Parameter containing:\n",
              " tensor([[-0.2474]], requires_grad=True),\n",
              " Parameter containing:\n",
              " tensor([0.2927], requires_grad=True)]"
            ]
          },
          "metadata": {},
          "execution_count": 895
        }
      ]
    },
    {
      "cell_type": "code",
      "source": [
        "def training_loop(n_epochs, optimizer, model, loss_fn, t_u_train, t_u_val,\n",
        "                  t_c_train, t_c_val):\n",
        "    start_time = time.time()\n",
        "    for epoch in range(1, n_epochs + 1):\n",
        "        t_p_train = model(t_u_train)\n",
        "        loss_train = loss_fn(t_p_train, t_c_train)\n",
        "\n",
        "        t_p_val = model(t_u_val)\n",
        "        loss_val = loss_fn(t_p_val, t_c_val)\n",
        "\n",
        "        optimizer.zero_grad()\n",
        "        loss_train.backward()\n",
        "        optimizer.step()\n",
        "\n",
        "        if epoch == 1 or epoch % 1000 == 0:\n",
        "            print(f\"Epoch {epoch}, Training loss {loss_train.item():.4f},\"\n",
        "                  f\" Validation loss {loss_val.item():.4f}\")\n",
        "    print(\"Training time: {:.2f} seconds\".format(time.time() - start_time))"
      ],
      "metadata": {
        "id": "uBoAxXWE_aYz"
      },
      "execution_count": 896,
      "outputs": []
    },
    {
      "cell_type": "code",
      "source": [
        "def loss_fn(t_p, t_c):\n",
        "    squared_diffs = (t_p - t_c)**2\n",
        "    return squared_diffs.mean()\n",
        "\n",
        "linear_model = nn.Linear(1, 1)\n",
        "optimizer = optim.SGD(linear_model.parameters(), lr=1e-2)\n",
        "\n",
        "training_loop(\n",
        "    n_epochs = 10000,\n",
        "    optimizer = optimizer,\n",
        "    model = linear_model,\n",
        "    loss_fn = loss_fn,\n",
        "    t_u_train = t_un_train,\n",
        "    t_u_val = t_un_val,\n",
        "    t_c_train = t_c_train,\n",
        "    t_c_val = t_c_val)\n",
        "\n",
        "\n",
        "print()\n",
        "print(linear_model.weight)\n",
        "print(linear_model.bias)"
      ],
      "metadata": {
        "colab": {
          "base_uri": "https://localhost:8080/",
          "height": 0
        },
        "id": "p7wmxtas_kR2",
        "outputId": "b1e8e9b2-568b-4f66-a8f3-6b0e1eafe8da"
      },
      "execution_count": 897,
      "outputs": [
        {
          "output_type": "stream",
          "name": "stdout",
          "text": [
            "Epoch 1, Training loss 190.1726, Validation loss 2.9703\n",
            "Epoch 1000, Training loss 86.8269, Validation loss 1.4865\n",
            "Epoch 2000, Training loss 86.8257, Validation loss 1.4014\n",
            "Epoch 3000, Training loss 86.8257, Validation loss 1.4010\n",
            "Epoch 4000, Training loss 86.8257, Validation loss 1.4010\n",
            "Epoch 5000, Training loss 86.8257, Validation loss 1.4010\n",
            "Epoch 6000, Training loss 86.8257, Validation loss 1.4010\n",
            "Epoch 7000, Training loss 86.8257, Validation loss 1.4010\n",
            "Epoch 8000, Training loss 86.8257, Validation loss 1.4010\n",
            "Epoch 9000, Training loss 86.8257, Validation loss 1.4010\n",
            "Epoch 10000, Training loss 86.8257, Validation loss 1.4010\n",
            "Training time: 5.86 seconds\n",
            "\n",
            "Parameter containing:\n",
            "tensor([[4.3520]], requires_grad=True)\n",
            "Parameter containing:\n",
            "tensor([-10.5334], requires_grad=True)\n"
          ]
        }
      ]
    },
    {
      "cell_type": "code",
      "source": [
        "linear_model = nn.Linear(1,1)\n",
        "optimizer = optim.SGD(linear_model.parameters(), lr=1e-2)\n",
        "\n",
        "training_loop(\n",
        "    n_epochs = 3000,\n",
        "    optimizer = optimizer,\n",
        "    model = linear_model,\n",
        "    loss_fn = nn.MSELoss(),\n",
        "    t_u_train = t_un_train,\n",
        "    t_u_val = t_un_val,\n",
        "    t_c_train = t_c_train,\n",
        "    t_c_val = t_c_val)\n",
        "\n",
        "\n",
        "print()\n",
        "print(linear_model.weight)\n",
        "print(linear_model.bias)"
      ],
      "metadata": {
        "colab": {
          "base_uri": "https://localhost:8080/",
          "height": 0
        },
        "id": "9GYkhyZ7_voL",
        "outputId": "66d1ac07-83d3-4e7f-cb49-7d508ddf9025"
      },
      "execution_count": 898,
      "outputs": [
        {
          "output_type": "stream",
          "name": "stdout",
          "text": [
            "Epoch 1, Training loss 195.2232, Validation loss 5.5493\n",
            "Epoch 1000, Training loss 86.8272, Validation loss 1.4963\n",
            "Epoch 2000, Training loss 86.8257, Validation loss 1.4015\n",
            "Epoch 3000, Training loss 86.8257, Validation loss 1.4010\n",
            "Training time: 1.65 seconds\n",
            "\n",
            "Parameter containing:\n",
            "tensor([[4.3520]], requires_grad=True)\n",
            "Parameter containing:\n",
            "tensor([-10.5334], requires_grad=True)\n"
          ]
        }
      ]
    },
    {
      "cell_type": "code",
      "source": [
        "seq_model = nn.Sequential(\n",
        "            nn.Linear(1, 512),\n",
        "            nn.Tanh(),\n",
        "            nn.Linear(512, 1))\n",
        "seq_model"
      ],
      "metadata": {
        "colab": {
          "base_uri": "https://localhost:8080/",
          "height": 0
        },
        "id": "mS5mV3nV_yhV",
        "outputId": "6eacfe1e-4a27-4872-a24d-7a44177c4554"
      },
      "execution_count": 899,
      "outputs": [
        {
          "output_type": "execute_result",
          "data": {
            "text/plain": [
              "Sequential(\n",
              "  (0): Linear(in_features=1, out_features=512, bias=True)\n",
              "  (1): Tanh()\n",
              "  (2): Linear(in_features=512, out_features=1, bias=True)\n",
              ")"
            ]
          },
          "metadata": {},
          "execution_count": 899
        }
      ]
    },
    {
      "cell_type": "code",
      "source": [
        "[param.shape for param in seq_model.parameters()]"
      ],
      "metadata": {
        "colab": {
          "base_uri": "https://localhost:8080/",
          "height": 0
        },
        "id": "oAEvoQ-hA2OC",
        "outputId": "8e09212a-6182-4182-d3ff-09fd37647657"
      },
      "execution_count": 900,
      "outputs": [
        {
          "output_type": "execute_result",
          "data": {
            "text/plain": [
              "[torch.Size([512, 1]),\n",
              " torch.Size([512]),\n",
              " torch.Size([1, 512]),\n",
              " torch.Size([1])]"
            ]
          },
          "metadata": {},
          "execution_count": 900
        }
      ]
    },
    {
      "cell_type": "code",
      "source": [
        "for name, param in seq_model.named_parameters():\n",
        "    print(name, param.shape)"
      ],
      "metadata": {
        "colab": {
          "base_uri": "https://localhost:8080/",
          "height": 0
        },
        "id": "NR_SoOmaA453",
        "outputId": "096f69c7-c4b7-40be-df1c-dbb54765674e"
      },
      "execution_count": 901,
      "outputs": [
        {
          "output_type": "stream",
          "name": "stdout",
          "text": [
            "0.weight torch.Size([512, 1])\n",
            "0.bias torch.Size([512])\n",
            "2.weight torch.Size([1, 512])\n",
            "2.bias torch.Size([1])\n"
          ]
        }
      ]
    },
    {
      "cell_type": "code",
      "source": [
        "from collections import OrderedDict\n",
        "\n",
        "seq_model = nn.Sequential(OrderedDict([\n",
        "    ('hidden_linear', nn.Linear(1, 512)),\n",
        "    ('hidden_activation', nn.Tanh()),\n",
        "    ('output_linear', nn.Linear(512, 1))\n",
        "]))\n",
        "\n",
        "seq_model"
      ],
      "metadata": {
        "colab": {
          "base_uri": "https://localhost:8080/",
          "height": 0
        },
        "id": "kz0wG3l4A-_E",
        "outputId": "ff869d14-c915-4817-8d93-362649fbc270"
      },
      "execution_count": 902,
      "outputs": [
        {
          "output_type": "execute_result",
          "data": {
            "text/plain": [
              "Sequential(\n",
              "  (hidden_linear): Linear(in_features=1, out_features=512, bias=True)\n",
              "  (hidden_activation): Tanh()\n",
              "  (output_linear): Linear(in_features=512, out_features=1, bias=True)\n",
              ")"
            ]
          },
          "metadata": {},
          "execution_count": 902
        }
      ]
    },
    {
      "cell_type": "code",
      "source": [
        "for name, param in seq_model.named_parameters():\n",
        "    print(name, param.shape)"
      ],
      "metadata": {
        "colab": {
          "base_uri": "https://localhost:8080/",
          "height": 0
        },
        "id": "2fl0QTvLA_eV",
        "outputId": "9d102a48-eb44-41f7-b90b-3f619526cfce"
      },
      "execution_count": 903,
      "outputs": [
        {
          "output_type": "stream",
          "name": "stdout",
          "text": [
            "hidden_linear.weight torch.Size([512, 1])\n",
            "hidden_linear.bias torch.Size([512])\n",
            "output_linear.weight torch.Size([1, 512])\n",
            "output_linear.bias torch.Size([1])\n"
          ]
        }
      ]
    },
    {
      "cell_type": "code",
      "source": [
        "seq_model.output_linear.bias"
      ],
      "metadata": {
        "colab": {
          "base_uri": "https://localhost:8080/",
          "height": 0
        },
        "id": "tjVy_xVwBAzu",
        "outputId": "176e8536-a45c-4dc4-edff-9e3310feee06"
      },
      "execution_count": 904,
      "outputs": [
        {
          "output_type": "execute_result",
          "data": {
            "text/plain": [
              "Parameter containing:\n",
              "tensor([0.0228], requires_grad=True)"
            ]
          },
          "metadata": {},
          "execution_count": 904
        }
      ]
    },
    {
      "cell_type": "code",
      "source": [
        "optimizer = optim.SGD(seq_model.parameters(), lr=1e-3)\n",
        "\n",
        "training_loop(\n",
        "    n_epochs = 5000,\n",
        "    optimizer = optimizer,\n",
        "    model = seq_model,\n",
        "    loss_fn = nn.MSELoss(),\n",
        "    t_u_train = t_un_train,\n",
        "    t_u_val = t_un_val,\n",
        "    t_c_train = t_c_train,\n",
        "    t_c_val = t_c_val)\n",
        "\n",
        "print('output', seq_model(t_un_val))\n",
        "print('answer', t_c_val)\n",
        "print('hidden', seq_model.hidden_linear.weight.grad)\n",
        "\n",
        "train_acc = torch.sum(seq_model(t_un_val) == t_c_val)\n",
        "\n",
        "final_train_acc = train_acc/512\n"
      ],
      "metadata": {
        "colab": {
          "base_uri": "https://localhost:8080/",
          "height": 0
        },
        "id": "BTo9HNHQBCOq",
        "outputId": "0f1e335c-c604-427f-f908-a7006c232ee8"
      },
      "execution_count": 905,
      "outputs": [
        {
          "output_type": "stream",
          "name": "stdout",
          "text": [
            "Epoch 1, Training loss 250.8668, Validation loss 0.8340\n",
            "Epoch 1000, Training loss 66.6546, Validation loss 59.7236\n",
            "Epoch 2000, Training loss 58.9487, Validation loss 125.8106\n",
            "Epoch 3000, Training loss 53.1204, Validation loss 177.4655\n",
            "Epoch 4000, Training loss 49.2157, Validation loss 202.0722\n",
            "Epoch 5000, Training loss 46.7334, Validation loss 200.0626\n",
            "Training time: 4.73 seconds\n",
            "output tensor([[-14.9610],\n",
            "        [-14.6245]], grad_fn=<AddmmBackward0>)\n",
            "answer tensor([[-1.0000],\n",
            "        [-0.3000]])\n",
            "hidden tensor([[-1.4663e-04],\n",
            "        [ 4.4940e-04],\n",
            "        [ 8.6151e-03],\n",
            "        [ 1.0705e-03],\n",
            "        [ 5.4826e-03],\n",
            "        [ 3.7491e-02],\n",
            "        [ 2.1473e-03],\n",
            "        [-9.2055e-06],\n",
            "        [ 4.8312e-03],\n",
            "        [-1.3391e-02],\n",
            "        [ 3.2500e-02],\n",
            "        [ 4.9954e-03],\n",
            "        [ 8.4112e-03],\n",
            "        [-5.4043e-02],\n",
            "        [-1.3720e-03],\n",
            "        [-1.9072e-03],\n",
            "        [-7.3617e-02],\n",
            "        [ 2.2785e-03],\n",
            "        [-2.5122e-03],\n",
            "        [ 6.5053e-02],\n",
            "        [-5.6346e-02],\n",
            "        [-2.5394e-02],\n",
            "        [-7.0136e-02],\n",
            "        [-4.4348e-04],\n",
            "        [-4.4840e-02],\n",
            "        [ 3.0764e-02],\n",
            "        [-1.7037e-03],\n",
            "        [-1.9652e-03],\n",
            "        [-7.3612e-02],\n",
            "        [-5.1907e-02],\n",
            "        [-3.0298e-03],\n",
            "        [ 2.6807e-03],\n",
            "        [ 1.3089e-03],\n",
            "        [ 4.3708e-04],\n",
            "        [ 7.2277e-04],\n",
            "        [ 1.7272e-03],\n",
            "        [ 5.4972e-02],\n",
            "        [ 1.1215e-03],\n",
            "        [ 2.1528e-03],\n",
            "        [-1.9829e-02],\n",
            "        [-6.6027e-02],\n",
            "        [-5.2952e-04],\n",
            "        [ 8.1549e-02],\n",
            "        [ 2.6529e-02],\n",
            "        [ 5.8726e-04],\n",
            "        [-1.7494e-03],\n",
            "        [-7.9240e-03],\n",
            "        [-6.8096e-03],\n",
            "        [-4.1789e-04],\n",
            "        [ 8.3819e-04],\n",
            "        [ 2.2020e-03],\n",
            "        [ 7.3620e-02],\n",
            "        [ 6.2932e-04],\n",
            "        [ 3.2647e-04],\n",
            "        [-1.1569e-02],\n",
            "        [-5.8283e-02],\n",
            "        [-6.0948e-05],\n",
            "        [-2.3660e-03],\n",
            "        [-2.5902e-03],\n",
            "        [ 4.8207e-02],\n",
            "        [ 7.4594e-04],\n",
            "        [ 1.1150e-02],\n",
            "        [ 2.1292e-03],\n",
            "        [-1.3290e-03],\n",
            "        [ 6.8358e-04],\n",
            "        [ 2.3817e-04],\n",
            "        [ 3.1589e-02],\n",
            "        [-2.8168e-02],\n",
            "        [ 1.1544e-03],\n",
            "        [-5.1089e-02],\n",
            "        [-3.5063e-03],\n",
            "        [ 1.4469e-03],\n",
            "        [-3.6998e-03],\n",
            "        [-1.2990e-03],\n",
            "        [ 1.3501e-03],\n",
            "        [ 1.3488e-04],\n",
            "        [-2.4007e-03],\n",
            "        [-2.6950e-03],\n",
            "        [-3.5755e-03],\n",
            "        [ 1.0274e-02],\n",
            "        [-4.3123e-03],\n",
            "        [ 7.9970e-04],\n",
            "        [-3.2543e-05],\n",
            "        [-1.0504e-04],\n",
            "        [ 1.1412e-02],\n",
            "        [-2.7537e-03],\n",
            "        [-3.9585e-02],\n",
            "        [ 4.1847e-02],\n",
            "        [ 4.2878e-02],\n",
            "        [ 1.6237e-03],\n",
            "        [-1.0367e-03],\n",
            "        [ 5.2459e-02],\n",
            "        [ 1.1775e-03],\n",
            "        [ 2.4439e-02],\n",
            "        [ 7.0835e-03],\n",
            "        [-2.2318e-03],\n",
            "        [ 6.9417e-02],\n",
            "        [ 4.3703e-04],\n",
            "        [-3.0429e-03],\n",
            "        [ 1.2187e-01],\n",
            "        [-7.0872e-04],\n",
            "        [-5.7750e-04],\n",
            "        [-7.8313e-02],\n",
            "        [ 1.0171e-02],\n",
            "        [ 1.4339e-03],\n",
            "        [ 3.2180e-02],\n",
            "        [ 4.8579e-03],\n",
            "        [ 5.2102e-02],\n",
            "        [ 6.6623e-04],\n",
            "        [ 4.7101e-02],\n",
            "        [ 2.8258e-03],\n",
            "        [ 5.8015e-03],\n",
            "        [ 1.0755e-02],\n",
            "        [-3.6412e-03],\n",
            "        [-1.1366e-03],\n",
            "        [-7.7037e-02],\n",
            "        [-2.2099e-02],\n",
            "        [ 8.6003e-04],\n",
            "        [ 2.0292e-02],\n",
            "        [-1.4590e-03],\n",
            "        [-1.7901e-02],\n",
            "        [-6.8493e-02],\n",
            "        [-7.1973e-02],\n",
            "        [-4.1946e-03],\n",
            "        [ 4.0174e-02],\n",
            "        [-3.4437e-02],\n",
            "        [ 8.1867e-04],\n",
            "        [-2.1196e-02],\n",
            "        [-1.2647e-02],\n",
            "        [-3.3256e-02],\n",
            "        [-9.3678e-03],\n",
            "        [-5.7416e-04],\n",
            "        [ 3.2558e-03],\n",
            "        [-4.6752e-03],\n",
            "        [-6.6000e-02],\n",
            "        [ 4.2289e-02],\n",
            "        [-2.3727e-02],\n",
            "        [ 4.4900e-02],\n",
            "        [-3.5973e-03],\n",
            "        [-1.8137e-03],\n",
            "        [ 1.2881e-01],\n",
            "        [ 3.8780e-03],\n",
            "        [ 7.4234e-04],\n",
            "        [-1.8792e-03],\n",
            "        [-3.8690e-03],\n",
            "        [ 2.6821e-02],\n",
            "        [ 9.7040e-03],\n",
            "        [-7.7031e-02],\n",
            "        [ 1.1812e-02],\n",
            "        [ 6.0165e-02],\n",
            "        [ 2.0165e-02],\n",
            "        [ 4.6450e-03],\n",
            "        [-1.0434e-02],\n",
            "        [ 3.3902e-02],\n",
            "        [-5.3169e-02],\n",
            "        [ 1.1951e-03],\n",
            "        [ 4.4204e-03],\n",
            "        [ 1.1204e-03],\n",
            "        [ 1.5383e-03],\n",
            "        [-2.0240e-03],\n",
            "        [-2.1046e-03],\n",
            "        [-5.2561e-02],\n",
            "        [ 1.2241e-03],\n",
            "        [-7.9245e-02],\n",
            "        [ 4.2497e-03],\n",
            "        [-1.3850e-01],\n",
            "        [-1.7447e-03],\n",
            "        [-1.7150e-03],\n",
            "        [ 8.3667e-02],\n",
            "        [-3.1796e-03],\n",
            "        [-4.1609e-03],\n",
            "        [-2.4891e-03],\n",
            "        [-1.0421e-03],\n",
            "        [-5.7475e-03],\n",
            "        [-6.6009e-02],\n",
            "        [ 1.0221e-01],\n",
            "        [-4.5849e-02],\n",
            "        [-1.2072e-03],\n",
            "        [ 3.4902e-02],\n",
            "        [-1.9289e-02],\n",
            "        [ 4.5074e-02],\n",
            "        [-5.2122e-03],\n",
            "        [ 2.4813e-03],\n",
            "        [ 1.1951e-05],\n",
            "        [-7.4573e-02],\n",
            "        [ 4.9187e-02],\n",
            "        [ 5.1848e-02],\n",
            "        [-1.4690e-03],\n",
            "        [ 2.2321e-03],\n",
            "        [-6.8204e-05],\n",
            "        [ 4.9757e-04],\n",
            "        [-5.5128e-03],\n",
            "        [ 5.8853e-02],\n",
            "        [ 7.2043e-03],\n",
            "        [ 2.7562e-03],\n",
            "        [-2.8903e-02],\n",
            "        [ 6.5557e-03],\n",
            "        [ 1.5951e-04],\n",
            "        [-1.4170e-03],\n",
            "        [-2.7447e-03],\n",
            "        [ 6.9759e-03],\n",
            "        [ 2.0893e-02],\n",
            "        [-5.6439e-02],\n",
            "        [-1.8419e-03],\n",
            "        [ 3.1372e-02],\n",
            "        [-7.3850e-04],\n",
            "        [-6.0459e-02],\n",
            "        [ 8.3381e-02],\n",
            "        [-3.9990e-04],\n",
            "        [-6.8967e-02],\n",
            "        [ 2.0221e-04],\n",
            "        [-7.4516e-03],\n",
            "        [-1.1569e-03],\n",
            "        [-5.0295e-04],\n",
            "        [ 1.4178e-01],\n",
            "        [-6.7575e-04],\n",
            "        [-1.6524e-02],\n",
            "        [-1.2940e-02],\n",
            "        [-4.4947e-02],\n",
            "        [ 2.0780e-03],\n",
            "        [-2.1493e-05],\n",
            "        [-5.6921e-03],\n",
            "        [ 5.9358e-02],\n",
            "        [ 7.2437e-02],\n",
            "        [ 5.3836e-05],\n",
            "        [-3.8052e-02],\n",
            "        [ 2.1351e-03],\n",
            "        [ 4.2974e-03],\n",
            "        [-3.9581e-02],\n",
            "        [ 3.6816e-04],\n",
            "        [ 9.1498e-04],\n",
            "        [-2.1881e-03],\n",
            "        [-3.4668e-05],\n",
            "        [ 4.7099e-02],\n",
            "        [-6.2150e-02],\n",
            "        [-1.8454e-04],\n",
            "        [ 1.5737e-02],\n",
            "        [-1.3451e-02],\n",
            "        [-7.2070e-02],\n",
            "        [-4.6200e-02],\n",
            "        [ 3.7205e-03],\n",
            "        [-2.9286e-03],\n",
            "        [ 3.2219e-02],\n",
            "        [ 2.8020e-03],\n",
            "        [ 5.1740e-02],\n",
            "        [-3.5142e-03],\n",
            "        [-3.4426e-03],\n",
            "        [-2.2821e-03],\n",
            "        [-5.2413e-02],\n",
            "        [-9.7843e-02],\n",
            "        [ 2.4423e-03],\n",
            "        [-9.9579e-03],\n",
            "        [-2.8259e-03],\n",
            "        [ 7.1565e-02],\n",
            "        [-9.5364e-02],\n",
            "        [-6.9252e-04],\n",
            "        [ 8.8246e-02],\n",
            "        [ 2.0049e-02],\n",
            "        [ 1.4246e-03],\n",
            "        [ 1.5484e-02],\n",
            "        [ 9.0354e-04],\n",
            "        [ 6.6929e-02],\n",
            "        [ 2.1405e-02],\n",
            "        [-1.8196e-02],\n",
            "        [ 1.6954e-02],\n",
            "        [ 2.0814e-03],\n",
            "        [ 2.6125e-02],\n",
            "        [ 6.2911e-04],\n",
            "        [ 4.0570e-02],\n",
            "        [-1.1450e-03],\n",
            "        [ 3.9598e-02],\n",
            "        [-5.2466e-04],\n",
            "        [ 4.9841e-04],\n",
            "        [ 8.8904e-04],\n",
            "        [ 2.4369e-02],\n",
            "        [ 1.5038e-03],\n",
            "        [ 1.1761e-01],\n",
            "        [-9.7829e-02],\n",
            "        [ 1.0707e-01],\n",
            "        [ 2.7131e-02],\n",
            "        [ 5.5125e-02],\n",
            "        [ 2.4023e-02],\n",
            "        [-6.4775e-02],\n",
            "        [-1.0233e-01],\n",
            "        [-7.9221e-02],\n",
            "        [-2.1604e-02],\n",
            "        [-2.4007e-07],\n",
            "        [ 1.8831e-03],\n",
            "        [ 3.9599e-04],\n",
            "        [-1.5681e-03],\n",
            "        [-1.3205e-02],\n",
            "        [-2.9222e-03],\n",
            "        [-1.3130e-04],\n",
            "        [ 2.0493e-03],\n",
            "        [-1.0257e-04],\n",
            "        [-1.2337e-02],\n",
            "        [-1.0052e-02],\n",
            "        [-1.0083e-02],\n",
            "        [-8.2837e-02],\n",
            "        [ 3.7830e-02],\n",
            "        [ 1.0016e-01],\n",
            "        [ 1.6809e-05],\n",
            "        [-2.4040e-03],\n",
            "        [-2.0737e-03],\n",
            "        [-3.1121e-02],\n",
            "        [-6.5532e-04],\n",
            "        [-1.2686e-01],\n",
            "        [ 2.4794e-03],\n",
            "        [ 2.3158e-03],\n",
            "        [-7.4658e-02],\n",
            "        [ 2.0993e-04],\n",
            "        [-5.5363e-02],\n",
            "        [ 3.2047e-02],\n",
            "        [-7.4775e-05],\n",
            "        [ 3.2540e-04],\n",
            "        [ 2.9430e-02],\n",
            "        [ 7.4436e-02],\n",
            "        [-1.2863e-01],\n",
            "        [-9.4462e-02],\n",
            "        [-9.9306e-03],\n",
            "        [-1.1696e-01],\n",
            "        [-3.2234e-04],\n",
            "        [ 2.2256e-03],\n",
            "        [ 2.6538e-03],\n",
            "        [ 2.9574e-02],\n",
            "        [ 1.5354e-02],\n",
            "        [ 5.0765e-04],\n",
            "        [-7.3446e-02],\n",
            "        [ 2.4714e-03],\n",
            "        [-3.0449e-03],\n",
            "        [-8.0755e-04],\n",
            "        [-2.9792e-03],\n",
            "        [-3.3468e-02],\n",
            "        [-3.0603e-03],\n",
            "        [-4.5221e-02],\n",
            "        [ 4.5288e-03],\n",
            "        [ 4.0804e-04],\n",
            "        [-7.3887e-04],\n",
            "        [ 2.7092e-03],\n",
            "        [ 2.1682e-03],\n",
            "        [-4.1144e-04],\n",
            "        [-8.8582e-03],\n",
            "        [ 5.2818e-02],\n",
            "        [ 2.0656e-02],\n",
            "        [ 2.6815e-03],\n",
            "        [-2.4815e-03],\n",
            "        [-2.0491e-03],\n",
            "        [ 1.0960e-02],\n",
            "        [-3.5498e-04],\n",
            "        [ 2.5374e-03],\n",
            "        [ 2.5939e-03],\n",
            "        [ 6.2894e-04],\n",
            "        [ 1.2879e-03],\n",
            "        [ 7.9503e-04],\n",
            "        [-6.2129e-03],\n",
            "        [ 4.5490e-04],\n",
            "        [-1.7153e-03],\n",
            "        [ 2.5098e-02],\n",
            "        [ 3.0222e-03],\n",
            "        [ 3.3632e-02],\n",
            "        [-6.5411e-02],\n",
            "        [ 1.7578e-02],\n",
            "        [-6.4765e-02],\n",
            "        [ 1.7784e-03],\n",
            "        [-3.4208e-02],\n",
            "        [ 3.4348e-03],\n",
            "        [-1.7096e-02],\n",
            "        [ 1.0000e-04],\n",
            "        [ 4.0602e-02],\n",
            "        [-1.9147e-03],\n",
            "        [ 2.0651e-04],\n",
            "        [ 1.4524e-03],\n",
            "        [ 1.0097e-01],\n",
            "        [-1.2433e-01],\n",
            "        [ 2.9840e-02],\n",
            "        [-4.8628e-02],\n",
            "        [-4.7467e-02],\n",
            "        [ 1.4578e-03],\n",
            "        [ 3.9938e-03],\n",
            "        [ 6.5075e-04],\n",
            "        [-4.2498e-02],\n",
            "        [-9.8070e-04],\n",
            "        [ 6.5330e-04],\n",
            "        [-1.0749e-01],\n",
            "        [-5.7996e-02],\n",
            "        [-3.7135e-03],\n",
            "        [ 5.3848e-02],\n",
            "        [-1.3772e-02],\n",
            "        [-3.3265e-03],\n",
            "        [ 2.4697e-03],\n",
            "        [-1.2185e-02],\n",
            "        [-5.1736e-02],\n",
            "        [-1.7641e-04],\n",
            "        [ 3.4170e-04],\n",
            "        [-5.3196e-02],\n",
            "        [ 4.0139e-03],\n",
            "        [-9.0639e-04],\n",
            "        [ 3.8355e-02],\n",
            "        [ 2.4229e-02],\n",
            "        [-2.3295e-02],\n",
            "        [ 1.3228e-02],\n",
            "        [-7.0868e-02],\n",
            "        [-4.1736e-02],\n",
            "        [ 3.2323e-03],\n",
            "        [-5.5458e-03],\n",
            "        [-3.5709e-03],\n",
            "        [-7.2820e-03],\n",
            "        [-6.6889e-02],\n",
            "        [-6.6089e-04],\n",
            "        [-4.0050e-03],\n",
            "        [ 1.9246e-03],\n",
            "        [-1.6920e-03],\n",
            "        [-4.1137e-02],\n",
            "        [-4.6104e-04],\n",
            "        [-6.7396e-02],\n",
            "        [-6.2482e-02],\n",
            "        [-6.0047e-03],\n",
            "        [ 5.9006e-03],\n",
            "        [ 1.2250e-01],\n",
            "        [-1.2195e-03],\n",
            "        [ 1.0940e-03],\n",
            "        [-8.7879e-04],\n",
            "        [ 5.8014e-03],\n",
            "        [ 9.9538e-03],\n",
            "        [ 1.2421e-03],\n",
            "        [ 1.2420e-01],\n",
            "        [-1.5971e-03],\n",
            "        [-2.1312e-02],\n",
            "        [ 5.8081e-04],\n",
            "        [-9.3262e-03],\n",
            "        [-6.4504e-04],\n",
            "        [ 8.4423e-02],\n",
            "        [-2.4693e-03],\n",
            "        [-1.3291e-03],\n",
            "        [ 2.7029e-03],\n",
            "        [ 2.3489e-03],\n",
            "        [ 9.2970e-03],\n",
            "        [ 7.3491e-03],\n",
            "        [-1.9320e-03],\n",
            "        [-2.7507e-03],\n",
            "        [-2.8147e-02],\n",
            "        [ 3.8303e-02],\n",
            "        [ 1.7858e-03],\n",
            "        [-2.3727e-02],\n",
            "        [-5.0524e-02],\n",
            "        [-1.6981e-03],\n",
            "        [ 2.6164e-03],\n",
            "        [ 2.6361e-04],\n",
            "        [-4.9867e-03],\n",
            "        [-3.0751e-03],\n",
            "        [-2.1905e-03],\n",
            "        [-6.2366e-03],\n",
            "        [-1.0938e-03],\n",
            "        [ 1.4526e-02],\n",
            "        [-8.0428e-02],\n",
            "        [-3.1386e-02],\n",
            "        [-6.9441e-05],\n",
            "        [ 4.7977e-04],\n",
            "        [-3.2835e-03],\n",
            "        [-7.4256e-03],\n",
            "        [-5.3735e-04],\n",
            "        [ 5.6095e-04],\n",
            "        [ 7.0151e-02],\n",
            "        [ 6.9887e-02],\n",
            "        [-1.0100e-03],\n",
            "        [ 9.4709e-02],\n",
            "        [-2.6727e-02],\n",
            "        [ 3.4685e-03],\n",
            "        [-1.8059e-03],\n",
            "        [ 1.5574e-03],\n",
            "        [-1.4885e-03],\n",
            "        [ 1.7198e-03],\n",
            "        [ 3.1418e-03],\n",
            "        [-6.7437e-02],\n",
            "        [ 2.4879e-03],\n",
            "        [ 6.6590e-04],\n",
            "        [-1.8395e-04],\n",
            "        [-1.8230e-03],\n",
            "        [ 1.0341e-03],\n",
            "        [-1.2996e-03],\n",
            "        [-7.0617e-03],\n",
            "        [ 1.5125e-03],\n",
            "        [-1.3770e-02],\n",
            "        [-2.8384e-03],\n",
            "        [-6.2750e-03],\n",
            "        [-1.7700e-03],\n",
            "        [-2.9845e-03],\n",
            "        [ 2.5605e-03],\n",
            "        [-1.6685e-03],\n",
            "        [ 6.4281e-02],\n",
            "        [ 3.5840e-03],\n",
            "        [-1.8556e-02],\n",
            "        [ 2.7392e-04],\n",
            "        [ 5.1539e-02],\n",
            "        [ 1.6242e-03],\n",
            "        [ 5.8695e-02],\n",
            "        [ 2.4188e-03],\n",
            "        [ 1.2189e-02],\n",
            "        [-2.3363e-02],\n",
            "        [ 2.2565e-03],\n",
            "        [ 5.4304e-03],\n",
            "        [-2.3267e-03],\n",
            "        [-4.4923e-02],\n",
            "        [ 3.0882e-02],\n",
            "        [-3.7062e-02],\n",
            "        [ 3.7079e-02],\n",
            "        [ 5.7018e-02],\n",
            "        [ 5.0587e-03],\n",
            "        [-5.5068e-03],\n",
            "        [-3.9820e-03],\n",
            "        [ 4.0897e-02],\n",
            "        [ 1.6600e-02]])\n"
          ]
        }
      ]
    },
    {
      "cell_type": "code",
      "source": [
        "from matplotlib import pyplot as plt\n",
        "\n",
        "t_range = torch.arange(20., 90.).unsqueeze(1)\n",
        "\n",
        "fig = plt.figure(dpi=600)\n",
        "plt.xlabel(\"t_u\")\n",
        "plt.ylabel(\"t_c\")\n",
        "plt.plot(t_u.numpy(), t_c.numpy(), 'o')\n",
        "plt.plot(t_range.numpy(), seq_model(0.1 * t_range).detach().numpy(), 'c-')\n",
        "plt.plot(t_u.numpy(), seq_model(0.1 * t_u).detach().numpy(), 'kx')"
      ],
      "metadata": {
        "colab": {
          "base_uri": "https://localhost:8080/",
          "height": 904
        },
        "id": "37f-DOOwBG6u",
        "outputId": "b3601445-e189-488e-8f78-4540db83d0eb"
      },
      "execution_count": 906,
      "outputs": [
        {
          "output_type": "execute_result",
          "data": {
            "text/plain": [
              "[<matplotlib.lines.Line2D at 0x7c714fc3e080>]"
            ]
          },
          "metadata": {},
          "execution_count": 906
        },
        {
          "output_type": "display_data",
          "data": {
            "text/plain": [
              "<Figure size 3840x2880 with 1 Axes>"
            ],
            "image/png": "[encoded data removed]"
          },
          "metadata": {}
        }
      ]
    },
    {
      "cell_type": "markdown",
      "source": [
        "My training loss is 66.6546, 58.9487, 53.1204, 49.2157, 46.7334 with a 64% evaluation accuracy. The training time took 4.73 seconds which isnt that long to train this model. It was a very quick as the epochs increases by a 1000 intervals. My training level off at around 36 which isnt too good, as the training loss didnt decrease that much."
      ],
      "metadata": {
        "id": "4zCRtvHyY6tX"
      }
    },
    {
      "cell_type": "markdown",
      "source": [
        "# Problem 1b"
      ],
      "metadata": {
        "id": "PH7frrSCBc34"
      }
    },
    {
      "cell_type": "code",
      "source": [
        "Hidden_1 = 512\n",
        "Hidden_2 = 256\n",
        "Hidden_3 = 128\n",
        "\n",
        "seq_model = nn.Sequential(OrderedDict([\n",
        "    ('hidden_linear1', nn.Linear(1, Hidden_1)),\n",
        "    ('hidden_activation1', nn.Tanh()),\n",
        "    ('hidden_linear2', nn.Linear(Hidden_1, Hidden_2)),\n",
        "    ('hidden_activation2', nn.Tanh()),\n",
        "    ('hidden_linear3', nn.Linear(Hidden_2, Hidden_3)),\n",
        "    ('hidden_activation3', nn.Tanh()),\n",
        "    ('output_linear', nn.Linear(Hidden_3, 1))\n",
        "]))\n",
        "\n",
        "optimizer = optim.SGD(seq_model.parameters(), lr=1e-4)\n",
        "\n",
        "training_loop(\n",
        "    n_epochs = 5000,\n",
        "    optimizer = optimizer,\n",
        "    model = seq_model,\n",
        "    loss_fn = nn.MSELoss(),\n",
        "    t_u_train = t_un_train,\n",
        "    t_u_val = t_un_val,\n",
        "    t_c_train = t_c_train,\n",
        "    t_c_val = t_c_val)\n",
        "\n",
        "from matplotlib import pyplot as plt\n",
        "\n",
        "t_range = torch.arange(20., 90.).unsqueeze(1)\n",
        "\n",
        "fig = plt.figure(dpi=150)\n",
        "plt.xlabel(\"t_u\")\n",
        "plt.ylabel(\"t_c\")\n",
        "plt.plot(t_u.numpy(), t_c.numpy(), 'o')\n",
        "plt.plot(t_range.numpy(), seq_model(0.1 * t_range).detach().numpy(), 'c-')\n",
        "plt.plot(t_u.numpy(), seq_model(0.1 * t_u).detach().numpy(), 'kx')"
      ],
      "metadata": {
        "colab": {
          "base_uri": "https://localhost:8080/",
          "height": 803
        },
        "id": "Ue0W0imkPG6q",
        "outputId": "59fe5fc4-1ac5-49aa-95b7-6e2f278c6709"
      },
      "execution_count": 907,
      "outputs": [
        {
          "output_type": "stream",
          "name": "stdout",
          "text": [
            "Epoch 1, Training loss 252.3855, Validation loss 0.5059\n",
            "Epoch 1000, Training loss 78.0162, Validation loss 9.7742\n",
            "Epoch 2000, Training loss 58.8515, Validation loss 114.7309\n",
            "Epoch 3000, Training loss 43.3150, Validation loss 134.2839\n",
            "Epoch 4000, Training loss 35.5183, Validation loss 43.8640\n",
            "Epoch 5000, Training loss 31.9772, Validation loss 7.2117\n",
            "Training time: 7.63 seconds\n"
          ]
        },
        {
          "output_type": "execute_result",
          "data": {
            "text/plain": [
              "[<matplotlib.lines.Line2D at 0x7c714faed330>]"
            ]
          },
          "metadata": {},
          "execution_count": 907
        },
        {
          "output_type": "display_data",
          "data": {
            "text/plain": [
              "<Figure size 960x720 with 1 Axes>"
            ],
            "image/png": "[encoded data removed]"
          },
          "metadata": {}
        }
      ]
    },
    {
      "cell_type": "markdown",
      "source": [
        "With the additional layer my training loss is 78.0162, 58.8515, 43.3150, 35.5183, and 31.9772. It kept decreaseing unlike my model with 1 hidden layer the accuray went up to 70 percent with is shown on the graph. Its a bit more curve and its not over fitting. The time it took for this model is 7.63 seconds which is double the amount form the previous graph. This is partialy due to addding in the extra layers. This model is suitable for achieving good accuracy without overfitting on the data."
      ],
      "metadata": {
        "id": "N0ErzSU3pK6n"
      }
    },
    {
      "cell_type": "code",
      "source": [
        "\n",
        "\n",
        "\n",
        "\n",
        "\n",
        "\n",
        "\n",
        "\n",
        "\n",
        "\n",
        "\n",
        "\n",
        "\n",
        "\n",
        "\n",
        "\n",
        "\n",
        "\n",
        "\n",
        "\n",
        "\n",
        "\n",
        "\n",
        "\n",
        "\n",
        "\n",
        "\n",
        "\n",
        "\n",
        "\n",
        "\n",
        "\n",
        "\n",
        "\n",
        "\n",
        "\n",
        "\n",
        "\n",
        "\n",
        "\n",
        "\n",
        "\n",
        "\n",
        "\n",
        "\n",
        "\n",
        "\n",
        "\n",
        "\n",
        "\n",
        "\n",
        "\n",
        "\n",
        "\n",
        "\n",
        "\n",
        "\n",
        "\n",
        "\n",
        "\n",
        "\n",
        "\n",
        "\n",
        "\n",
        "\n",
        "\n",
        "\n",
        "\n",
        "\n",
        "\n",
        "\n",
        "\n",
        "\n",
        "\n",
        "\n",
        "\n",
        "\n",
        "\n",
        "\n",
        "\n",
        "\n",
        "\n",
        "\n",
        "\n",
        "\n",
        "\n",
        "\n",
        "\n",
        "\n",
        "\n",
        "\n",
        "\n",
        "\n",
        "\n",
        "\n",
        "\n",
        "\n",
        "\n",
        "\n",
        "\n",
        "\n",
        "\n",
        "\n",
        "\n",
        "\n",
        "\n",
        "\n",
        "\n",
        "\n",
        "\n",
        "\n",
        "\n",
        "\n",
        "\n",
        "\n",
        "\n",
        "\n",
        "\n",
        "\n",
        "\n",
        "\n",
        "\n",
        "\n",
        "\n",
        "\n",
        "\n",
        "\n",
        "\n",
        "\n",
        "\n",
        "\n",
        "\n",
        "\n",
        "\n",
        "\n",
        "\n",
        "\n",
        "\n",
        "\n",
        "\n",
        "\n",
        "\n",
        "\n",
        "\n",
        "\n",
        "\n",
        "\n",
        "\n",
        "\n",
        "\n",
        "\n",
        "\n",
        "\n",
        "\n",
        "\n",
        "\n",
        "\n",
        "\n",
        "\n",
        "\n",
        "\n",
        "\n",
        "\n",
        "\n",
        "\n",
        "\n",
        "\n",
        "\n",
        "\n",
        "\n",
        "\n",
        "\n",
        "\n",
        "\n",
        "\n",
        "\n",
        "\n",
        "\n",
        "\n",
        "\n",
        "\n",
        "\n",
        "\n",
        "\n",
        "\n",
        "\n",
        "\n",
        "\n",
        "\n",
        "\n",
        "\n",
        "\n",
        "\n",
        "\n",
        "\n",
        "\n",
        "\n",
        "\n",
        "\n",
        "\n",
        "\n",
        "\n",
        "\n",
        "\n",
        "\n",
        "\n",
        "\n",
        "\n",
        "\n",
        "\n",
        "\n",
        "\n",
        "\n",
        "\n",
        "\n",
        "\n",
        "\n",
        "\n",
        "\n",
        "\n",
        "\n",
        "\n",
        "\n",
        "\n",
        "\n",
        "\n",
        "\n",
        "\n",
        "\n",
        "\n",
        "\n",
        "\n",
        "\n",
        "\n",
        "\n",
        "\n",
        "\n",
        "\n",
        "\n",
        "\n",
        "\n",
        "\n",
        "\n",
        "\n",
        "\n",
        "\n",
        "\n",
        "\n",
        "\n",
        "\n",
        "\n",
        "\n",
        "\n",
        "\n",
        "\n",
        "\n",
        "\n",
        "\n",
        "\n",
        "\n",
        "\n",
        "\n",
        "\n",
        "\n",
        "\n",
        "\n",
        "\n",
        "\n",
        "\n",
        "\n",
        "\n",
        "\n",
        "\n",
        "\n",
        "\n",
        "\n",
        "\n",
        "\n",
        "\n",
        "\n",
        "\n",
        "\n",
        "\n",
        "\n",
        "\n",
        "\n",
        "\n",
        "\n",
        "\n",
        "\n",
        "\n",
        "\n",
        "\n",
        "\n",
        "\n",
        "\n",
        "\n",
        "\n",
        "\n",
        "\n",
        "\n",
        "\n",
        "\n",
        "\n",
        "\n",
        "\n",
        "\n",
        "\n",
        "\n",
        "\n",
        "\n",
        "\n",
        "\n",
        "\n"
      ],
      "metadata": {
        "id": "PZuXii2SsZjP"
      },
      "execution_count": null,
      "outputs": []
    }
  ]
}